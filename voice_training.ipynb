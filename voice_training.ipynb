{
 "cells": [
  {
   "cell_type": "code",
   "execution_count": 1,
   "metadata": {},
   "outputs": [],
   "source": [
    "import numpy as np\n",
    "\n",
    "data=np.load('data.npy')\n",
    "target=np.load('target.npy')"
   ]
  },
  {
   "cell_type": "code",
   "execution_count": 4,
   "metadata": {},
   "outputs": [],
   "source": [
    "from keras.models import Sequential\n",
    "from keras.layers import Dense,Activation,Flatten,Dropout\n",
    "from keras.layers import Conv2D,MaxPooling2D\n",
    "from keras.callbacks import ModelCheckpoint\n",
    "\n",
    "model=Sequential()\n",
    "\n",
    "model.add(Conv2D(200,(3,3),input_shape=data.shape[1:]))\n",
    "model.add(Activation('relu'))\n",
    "model.add(MaxPooling2D(pool_size=(2,2)))\n",
    "\n",
    "\n",
    "model.add(Conv2D(100,(3,3)))\n",
    "model.add(Activation('relu'))\n",
    "model.add(MaxPooling2D(pool_size=(2,2)))\n",
    "\n",
    "\n",
    "model.add(Flatten())\n",
    "model.add(Dropout(0.5))\n",
    "\n",
    "model.add(Dense(50,activation='relu'))\n",
    "\n",
    "model.add(Dense(2,activation='softmax'))\n",
    "\n",
    "\n",
    "model.compile(loss='categorical_crossentropy',optimizer='adam',metrics=['accuracy'])"
   ]
  },
  {
   "cell_type": "code",
   "execution_count": 5,
   "metadata": {},
   "outputs": [],
   "source": [
    "from sklearn.model_selection import train_test_split\n",
    "\n",
    "train_data,test_data,train_target,test_target=train_test_split(data,target,test_size=0.1)"
   ]
  },
  {
   "cell_type": "code",
   "execution_count": 6,
   "metadata": {},
   "outputs": [
    {
     "name": "stdout",
     "output_type": "stream",
     "text": [
      "Epoch 1/30\n",
      "90/90 [==============================] - ETA: 0s - loss: 0.6985 - accuracy: 0.5444"
     ]
    },
    {
     "name": "stderr",
     "output_type": "stream",
     "text": [
      "WARNING:absl:Found untraced functions such as _jit_compiled_convolution_op, _jit_compiled_convolution_op while saving (showing 2 of 2). These functions will not be directly callable after loading.\n"
     ]
    },
    {
     "name": "stdout",
     "output_type": "stream",
     "text": [
      "INFO:tensorflow:Assets written to: model-001.model\\assets\n"
     ]
    },
    {
     "name": "stderr",
     "output_type": "stream",
     "text": [
      "INFO:tensorflow:Assets written to: model-001.model\\assets\n"
     ]
    },
    {
     "name": "stdout",
     "output_type": "stream",
     "text": [
      "90/90 [==============================] - 92s 953ms/step - loss: 0.6985 - accuracy: 0.5444 - val_loss: 0.6774 - val_accuracy: 0.5347\n",
      "Epoch 2/30\n",
      "90/90 [==============================] - ETA: 0s - loss: 0.6468 - accuracy: 0.6226"
     ]
    },
    {
     "name": "stderr",
     "output_type": "stream",
     "text": [
      "WARNING:absl:Found untraced functions such as _jit_compiled_convolution_op, _jit_compiled_convolution_op while saving (showing 2 of 2). These functions will not be directly callable after loading.\n"
     ]
    },
    {
     "name": "stdout",
     "output_type": "stream",
     "text": [
      "INFO:tensorflow:Assets written to: model-002.model\\assets\n"
     ]
    },
    {
     "name": "stderr",
     "output_type": "stream",
     "text": [
      "INFO:tensorflow:Assets written to: model-002.model\\assets\n"
     ]
    },
    {
     "name": "stdout",
     "output_type": "stream",
     "text": [
      "90/90 [==============================] - 92s 1s/step - loss: 0.6468 - accuracy: 0.6226 - val_loss: 0.6413 - val_accuracy: 0.6000\n",
      "Epoch 3/30\n",
      "90/90 [==============================] - 86s 957ms/step - loss: 0.6330 - accuracy: 0.6292 - val_loss: 0.6489 - val_accuracy: 0.5889\n",
      "Epoch 4/30\n",
      "90/90 [==============================] - ETA: 0s - loss: 0.6181 - accuracy: 0.6438"
     ]
    },
    {
     "name": "stderr",
     "output_type": "stream",
     "text": [
      "WARNING:absl:Found untraced functions such as _jit_compiled_convolution_op, _jit_compiled_convolution_op while saving (showing 2 of 2). These functions will not be directly callable after loading.\n"
     ]
    },
    {
     "name": "stdout",
     "output_type": "stream",
     "text": [
      "INFO:tensorflow:Assets written to: model-004.model\\assets\n"
     ]
    },
    {
     "name": "stderr",
     "output_type": "stream",
     "text": [
      "INFO:tensorflow:Assets written to: model-004.model\\assets\n"
     ]
    },
    {
     "name": "stdout",
     "output_type": "stream",
     "text": [
      "90/90 [==============================] - 90s 999ms/step - loss: 0.6181 - accuracy: 0.6438 - val_loss: 0.6254 - val_accuracy: 0.6125\n",
      "Epoch 5/30\n",
      "90/90 [==============================] - ETA: 0s - loss: 0.5994 - accuracy: 0.6597"
     ]
    },
    {
     "name": "stderr",
     "output_type": "stream",
     "text": [
      "WARNING:absl:Found untraced functions such as _jit_compiled_convolution_op, _jit_compiled_convolution_op while saving (showing 2 of 2). These functions will not be directly callable after loading.\n"
     ]
    },
    {
     "name": "stdout",
     "output_type": "stream",
     "text": [
      "INFO:tensorflow:Assets written to: model-005.model\\assets\n"
     ]
    },
    {
     "name": "stderr",
     "output_type": "stream",
     "text": [
      "INFO:tensorflow:Assets written to: model-005.model\\assets\n"
     ]
    },
    {
     "name": "stdout",
     "output_type": "stream",
     "text": [
      "90/90 [==============================] - 89s 985ms/step - loss: 0.5994 - accuracy: 0.6597 - val_loss: 0.6033 - val_accuracy: 0.6500\n",
      "Epoch 6/30\n",
      "90/90 [==============================] - 88s 974ms/step - loss: 0.5783 - accuracy: 0.6861 - val_loss: 0.6072 - val_accuracy: 0.6500\n",
      "Epoch 7/30\n",
      "90/90 [==============================] - ETA: 0s - loss: 0.5549 - accuracy: 0.7031"
     ]
    },
    {
     "name": "stderr",
     "output_type": "stream",
     "text": [
      "WARNING:absl:Found untraced functions such as _jit_compiled_convolution_op, _jit_compiled_convolution_op while saving (showing 2 of 2). These functions will not be directly callable after loading.\n"
     ]
    },
    {
     "name": "stdout",
     "output_type": "stream",
     "text": [
      "INFO:tensorflow:Assets written to: model-007.model\\assets\n"
     ]
    },
    {
     "name": "stderr",
     "output_type": "stream",
     "text": [
      "INFO:tensorflow:Assets written to: model-007.model\\assets\n"
     ]
    },
    {
     "name": "stdout",
     "output_type": "stream",
     "text": [
      "90/90 [==============================] - 88s 980ms/step - loss: 0.5549 - accuracy: 0.7031 - val_loss: 0.5873 - val_accuracy: 0.6875\n",
      "Epoch 8/30\n",
      "90/90 [==============================] - ETA: 0s - loss: 0.5491 - accuracy: 0.7177"
     ]
    },
    {
     "name": "stderr",
     "output_type": "stream",
     "text": [
      "WARNING:absl:Found untraced functions such as _jit_compiled_convolution_op, _jit_compiled_convolution_op while saving (showing 2 of 2). These functions will not be directly callable after loading.\n"
     ]
    },
    {
     "name": "stdout",
     "output_type": "stream",
     "text": [
      "INFO:tensorflow:Assets written to: model-008.model\\assets\n"
     ]
    },
    {
     "name": "stderr",
     "output_type": "stream",
     "text": [
      "INFO:tensorflow:Assets written to: model-008.model\\assets\n"
     ]
    },
    {
     "name": "stdout",
     "output_type": "stream",
     "text": [
      "90/90 [==============================] - 89s 987ms/step - loss: 0.5491 - accuracy: 0.7177 - val_loss: 0.5542 - val_accuracy: 0.7222\n",
      "Epoch 9/30\n",
      "90/90 [==============================] - 86s 960ms/step - loss: 0.5289 - accuracy: 0.7260 - val_loss: 0.5773 - val_accuracy: 0.6792\n",
      "Epoch 10/30\n",
      "90/90 [==============================] - ETA: 0s - loss: 0.5095 - accuracy: 0.7375"
     ]
    },
    {
     "name": "stderr",
     "output_type": "stream",
     "text": [
      "WARNING:absl:Found untraced functions such as _jit_compiled_convolution_op, _jit_compiled_convolution_op while saving (showing 2 of 2). These functions will not be directly callable after loading.\n"
     ]
    },
    {
     "name": "stdout",
     "output_type": "stream",
     "text": [
      "INFO:tensorflow:Assets written to: model-010.model\\assets\n"
     ]
    },
    {
     "name": "stderr",
     "output_type": "stream",
     "text": [
      "INFO:tensorflow:Assets written to: model-010.model\\assets\n"
     ]
    },
    {
     "name": "stdout",
     "output_type": "stream",
     "text": [
      "90/90 [==============================] - 90s 1s/step - loss: 0.5095 - accuracy: 0.7375 - val_loss: 0.5355 - val_accuracy: 0.7278\n",
      "Epoch 11/30\n",
      "90/90 [==============================] - ETA: 0s - loss: 0.5070 - accuracy: 0.7535"
     ]
    },
    {
     "name": "stderr",
     "output_type": "stream",
     "text": [
      "WARNING:absl:Found untraced functions such as _jit_compiled_convolution_op, _jit_compiled_convolution_op while saving (showing 2 of 2). These functions will not be directly callable after loading.\n"
     ]
    },
    {
     "name": "stdout",
     "output_type": "stream",
     "text": [
      "INFO:tensorflow:Assets written to: model-011.model\\assets\n"
     ]
    },
    {
     "name": "stderr",
     "output_type": "stream",
     "text": [
      "INFO:tensorflow:Assets written to: model-011.model\\assets\n"
     ]
    },
    {
     "name": "stdout",
     "output_type": "stream",
     "text": [
      "90/90 [==============================] - 88s 982ms/step - loss: 0.5070 - accuracy: 0.7535 - val_loss: 0.5327 - val_accuracy: 0.7306\n",
      "Epoch 12/30\n",
      "90/90 [==============================] - 86s 955ms/step - loss: 0.4964 - accuracy: 0.7472 - val_loss: 0.5490 - val_accuracy: 0.7083\n",
      "Epoch 13/30\n",
      "90/90 [==============================] - ETA: 0s - loss: 0.4853 - accuracy: 0.7587"
     ]
    },
    {
     "name": "stderr",
     "output_type": "stream",
     "text": [
      "WARNING:absl:Found untraced functions such as _jit_compiled_convolution_op, _jit_compiled_convolution_op while saving (showing 2 of 2). These functions will not be directly callable after loading.\n"
     ]
    },
    {
     "name": "stdout",
     "output_type": "stream",
     "text": [
      "INFO:tensorflow:Assets written to: model-013.model\\assets\n"
     ]
    },
    {
     "name": "stderr",
     "output_type": "stream",
     "text": [
      "INFO:tensorflow:Assets written to: model-013.model\\assets\n"
     ]
    },
    {
     "name": "stdout",
     "output_type": "stream",
     "text": [
      "90/90 [==============================] - 87s 966ms/step - loss: 0.4853 - accuracy: 0.7587 - val_loss: 0.5241 - val_accuracy: 0.7556\n",
      "Epoch 14/30\n",
      "90/90 [==============================] - ETA: 0s - loss: 0.4960 - accuracy: 0.7528"
     ]
    },
    {
     "name": "stderr",
     "output_type": "stream",
     "text": [
      "WARNING:absl:Found untraced functions such as _jit_compiled_convolution_op, _jit_compiled_convolution_op while saving (showing 2 of 2). These functions will not be directly callable after loading.\n"
     ]
    },
    {
     "name": "stdout",
     "output_type": "stream",
     "text": [
      "INFO:tensorflow:Assets written to: model-014.model\\assets\n"
     ]
    },
    {
     "name": "stderr",
     "output_type": "stream",
     "text": [
      "INFO:tensorflow:Assets written to: model-014.model\\assets\n"
     ]
    },
    {
     "name": "stdout",
     "output_type": "stream",
     "text": [
      "90/90 [==============================] - 88s 974ms/step - loss: 0.4960 - accuracy: 0.7528 - val_loss: 0.5186 - val_accuracy: 0.7472\n",
      "Epoch 15/30\n",
      "90/90 [==============================] - ETA: 0s - loss: 0.4789 - accuracy: 0.7674"
     ]
    },
    {
     "name": "stderr",
     "output_type": "stream",
     "text": [
      "WARNING:absl:Found untraced functions such as _jit_compiled_convolution_op, _jit_compiled_convolution_op while saving (showing 2 of 2). These functions will not be directly callable after loading.\n"
     ]
    },
    {
     "name": "stdout",
     "output_type": "stream",
     "text": [
      "INFO:tensorflow:Assets written to: model-015.model\\assets\n"
     ]
    },
    {
     "name": "stderr",
     "output_type": "stream",
     "text": [
      "INFO:tensorflow:Assets written to: model-015.model\\assets\n"
     ]
    },
    {
     "name": "stdout",
     "output_type": "stream",
     "text": [
      "90/90 [==============================] - 87s 971ms/step - loss: 0.4789 - accuracy: 0.7674 - val_loss: 0.5172 - val_accuracy: 0.7542\n",
      "Epoch 16/30\n",
      "90/90 [==============================] - ETA: 0s - loss: 0.4738 - accuracy: 0.7663"
     ]
    },
    {
     "name": "stderr",
     "output_type": "stream",
     "text": [
      "WARNING:absl:Found untraced functions such as _jit_compiled_convolution_op, _jit_compiled_convolution_op while saving (showing 2 of 2). These functions will not be directly callable after loading.\n"
     ]
    },
    {
     "name": "stdout",
     "output_type": "stream",
     "text": [
      "INFO:tensorflow:Assets written to: model-016.model\\assets\n"
     ]
    },
    {
     "name": "stderr",
     "output_type": "stream",
     "text": [
      "INFO:tensorflow:Assets written to: model-016.model\\assets\n"
     ]
    },
    {
     "name": "stdout",
     "output_type": "stream",
     "text": [
      "90/90 [==============================] - 87s 967ms/step - loss: 0.4738 - accuracy: 0.7663 - val_loss: 0.5131 - val_accuracy: 0.7556\n",
      "Epoch 17/30\n",
      "90/90 [==============================] - ETA: 0s - loss: 0.4697 - accuracy: 0.7660"
     ]
    },
    {
     "name": "stderr",
     "output_type": "stream",
     "text": [
      "WARNING:absl:Found untraced functions such as _jit_compiled_convolution_op, _jit_compiled_convolution_op while saving (showing 2 of 2). These functions will not be directly callable after loading.\n"
     ]
    },
    {
     "name": "stdout",
     "output_type": "stream",
     "text": [
      "INFO:tensorflow:Assets written to: model-017.model\\assets\n"
     ]
    },
    {
     "name": "stderr",
     "output_type": "stream",
     "text": [
      "INFO:tensorflow:Assets written to: model-017.model\\assets\n"
     ]
    },
    {
     "name": "stdout",
     "output_type": "stream",
     "text": [
      "90/90 [==============================] - 88s 974ms/step - loss: 0.4697 - accuracy: 0.7660 - val_loss: 0.5068 - val_accuracy: 0.7500\n",
      "Epoch 18/30\n",
      "90/90 [==============================] - 85s 950ms/step - loss: 0.4642 - accuracy: 0.7788 - val_loss: 0.5164 - val_accuracy: 0.7389\n",
      "Epoch 19/30\n",
      "90/90 [==============================] - 85s 941ms/step - loss: 0.4724 - accuracy: 0.7705 - val_loss: 0.5210 - val_accuracy: 0.7597\n",
      "Epoch 20/30\n",
      "90/90 [==============================] - 85s 945ms/step - loss: 0.4481 - accuracy: 0.7937 - val_loss: 0.5180 - val_accuracy: 0.7625\n",
      "Epoch 21/30\n",
      "90/90 [==============================] - 85s 948ms/step - loss: 0.4413 - accuracy: 0.7920 - val_loss: 0.5111 - val_accuracy: 0.7514\n",
      "Epoch 22/30\n",
      "90/90 [==============================] - ETA: 0s - loss: 0.4273 - accuracy: 0.7958"
     ]
    },
    {
     "name": "stderr",
     "output_type": "stream",
     "text": [
      "WARNING:absl:Found untraced functions such as _jit_compiled_convolution_op, _jit_compiled_convolution_op while saving (showing 2 of 2). These functions will not be directly callable after loading.\n"
     ]
    },
    {
     "name": "stdout",
     "output_type": "stream",
     "text": [
      "INFO:tensorflow:Assets written to: model-022.model\\assets\n"
     ]
    },
    {
     "name": "stderr",
     "output_type": "stream",
     "text": [
      "INFO:tensorflow:Assets written to: model-022.model\\assets\n"
     ]
    },
    {
     "name": "stdout",
     "output_type": "stream",
     "text": [
      "90/90 [==============================] - 88s 974ms/step - loss: 0.4273 - accuracy: 0.7958 - val_loss: 0.5046 - val_accuracy: 0.7750\n",
      "Epoch 23/30\n",
      "90/90 [==============================] - ETA: 0s - loss: 0.4346 - accuracy: 0.7969"
     ]
    },
    {
     "name": "stderr",
     "output_type": "stream",
     "text": [
      "WARNING:absl:Found untraced functions such as _jit_compiled_convolution_op, _jit_compiled_convolution_op while saving (showing 2 of 2). These functions will not be directly callable after loading.\n"
     ]
    },
    {
     "name": "stdout",
     "output_type": "stream",
     "text": [
      "INFO:tensorflow:Assets written to: model-023.model\\assets\n"
     ]
    },
    {
     "name": "stderr",
     "output_type": "stream",
     "text": [
      "INFO:tensorflow:Assets written to: model-023.model\\assets\n"
     ]
    },
    {
     "name": "stdout",
     "output_type": "stream",
     "text": [
      "90/90 [==============================] - 87s 970ms/step - loss: 0.4346 - accuracy: 0.7969 - val_loss: 0.5010 - val_accuracy: 0.7611\n",
      "Epoch 24/30\n",
      "90/90 [==============================] - 90s 1s/step - loss: 0.4194 - accuracy: 0.8153 - val_loss: 0.5124 - val_accuracy: 0.7542\n",
      "Epoch 25/30\n",
      "90/90 [==============================] - 90s 996ms/step - loss: 0.4222 - accuracy: 0.7997 - val_loss: 0.5223 - val_accuracy: 0.7611\n",
      "Epoch 26/30\n",
      "90/90 [==============================] - 90s 997ms/step - loss: 0.4118 - accuracy: 0.8087 - val_loss: 0.5191 - val_accuracy: 0.7625\n",
      "Epoch 27/30\n",
      "90/90 [==============================] - 87s 969ms/step - loss: 0.4028 - accuracy: 0.8101 - val_loss: 0.5015 - val_accuracy: 0.7667\n",
      "Epoch 28/30\n",
      "90/90 [==============================] - ETA: 0s - loss: 0.3992 - accuracy: 0.8139"
     ]
    },
    {
     "name": "stderr",
     "output_type": "stream",
     "text": [
      "WARNING:absl:Found untraced functions such as _jit_compiled_convolution_op, _jit_compiled_convolution_op while saving (showing 2 of 2). These functions will not be directly callable after loading.\n"
     ]
    },
    {
     "name": "stdout",
     "output_type": "stream",
     "text": [
      "INFO:tensorflow:Assets written to: model-028.model\\assets\n"
     ]
    },
    {
     "name": "stderr",
     "output_type": "stream",
     "text": [
      "INFO:tensorflow:Assets written to: model-028.model\\assets\n"
     ]
    },
    {
     "name": "stdout",
     "output_type": "stream",
     "text": [
      "90/90 [==============================] - 90s 1s/step - loss: 0.3992 - accuracy: 0.8139 - val_loss: 0.4813 - val_accuracy: 0.7861\n",
      "Epoch 29/30\n",
      "90/90 [==============================] - 85s 946ms/step - loss: 0.3889 - accuracy: 0.8212 - val_loss: 0.4946 - val_accuracy: 0.7750\n",
      "Epoch 30/30\n",
      "90/90 [==============================] - 85s 949ms/step - loss: 0.3859 - accuracy: 0.8306 - val_loss: 0.5038 - val_accuracy: 0.7653\n"
     ]
    }
   ],
   "source": [
    "checkpoint = ModelCheckpoint('model-{epoch:03d}.model',monitor='val_loss',verbose=0,save_best_only=True,mode='auto')\n",
    "history=model.fit(train_data,train_target,epochs=30,callbacks=[checkpoint],validation_split=0.2)"
   ]
  }
 ],
 "metadata": {
  "kernelspec": {
   "display_name": "Python 3 (ipykernel)",
   "language": "python",
   "name": "python3"
  },
  "language_info": {
   "codemirror_mode": {
    "name": "ipython",
    "version": 3
   },
   "file_extension": ".py",
   "mimetype": "text/x-python",
   "name": "python",
   "nbconvert_exporter": "python",
   "pygments_lexer": "ipython3",
   "version": "3.10.9"
  }
 },
 "nbformat": 4,
 "nbformat_minor": 2
}
